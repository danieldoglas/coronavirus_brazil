{
 "cells": [
  {
   "cell_type": "markdown",
   "metadata": {},
   "source": [
    "## Loading needed libs"
   ]
  },
  {
   "cell_type": "code",
   "execution_count": 1,
   "metadata": {},
   "outputs": [],
   "source": [
    "import json, os, sys, datetime, io, csv,time\n",
    "import pandas as pd\n",
    "import numpy as np\n",
    "from dateutil import relativedelta\n",
    "import matplotlib.pyplot as plt"
   ]
  },
  {
   "cell_type": "markdown",
   "metadata": {},
   "source": [
    "## Coronavirus XSL section"
   ]
  },
  {
   "cell_type": "code",
   "execution_count": 2,
   "metadata": {},
   "outputs": [],
   "source": [
    "corona_xls = pd.ExcelFile(\"HIST_PAINEL_COVIDBR_01jul2020.xlsx\")\n",
    "df_corona_initial = corona_xls.parse(\"Sheet 1\") "
   ]
  },
  {
   "cell_type": "markdown",
   "metadata": {},
   "source": [
    "#### Removing data where there is no City filled (the data comes with Country > State > City level)"
   ]
  },
  {
   "cell_type": "code",
   "execution_count": 3,
   "metadata": {},
   "outputs": [],
   "source": [
    "df_corona = df_corona_initial[pd.notna(df_corona_initial.municipio)] #kepping the original df in case there are changes below"
   ]
  },
  {
   "cell_type": "code",
   "execution_count": 4,
   "metadata": {},
   "outputs": [
    {
     "data": {
      "text/html": [
       "<div>\n",
       "<style scoped>\n",
       "    .dataframe tbody tr th:only-of-type {\n",
       "        vertical-align: middle;\n",
       "    }\n",
       "\n",
       "    .dataframe tbody tr th {\n",
       "        vertical-align: top;\n",
       "    }\n",
       "\n",
       "    .dataframe thead th {\n",
       "        text-align: right;\n",
       "    }\n",
       "</style>\n",
       "<table border=\"1\" class=\"dataframe\">\n",
       "  <thead>\n",
       "    <tr style=\"text-align: right;\">\n",
       "      <th></th>\n",
       "      <th>regiao</th>\n",
       "      <th>estado</th>\n",
       "      <th>municipio</th>\n",
       "      <th>coduf</th>\n",
       "      <th>codmun</th>\n",
       "      <th>codRegiaoSaude</th>\n",
       "      <th>nomeRegiaoSaude</th>\n",
       "      <th>data</th>\n",
       "      <th>semanaEpi</th>\n",
       "      <th>populacaoTCU2019</th>\n",
       "      <th>casosAcumulado</th>\n",
       "      <th>casosNovos</th>\n",
       "      <th>obitosAcumulado</th>\n",
       "      <th>obitosNovos</th>\n",
       "      <th>Recuperadosnovos</th>\n",
       "      <th>emAcompanhamentoNovos</th>\n",
       "      <th>interior/metropolitana</th>\n",
       "    </tr>\n",
       "  </thead>\n",
       "  <tbody>\n",
       "    <tr>\n",
       "      <th>3681</th>\n",
       "      <td>Norte</td>\n",
       "      <td>RO</td>\n",
       "      <td>Alta Floresta D'Oeste</td>\n",
       "      <td>11</td>\n",
       "      <td>110001.0</td>\n",
       "      <td>11005.0</td>\n",
       "      <td>ZONA DA MATA</td>\n",
       "      <td>2020-03-27</td>\n",
       "      <td>13</td>\n",
       "      <td>22945</td>\n",
       "      <td>0</td>\n",
       "      <td>0</td>\n",
       "      <td>0</td>\n",
       "      <td>0</td>\n",
       "      <td>NaN</td>\n",
       "      <td>NaN</td>\n",
       "      <td>0.0</td>\n",
       "    </tr>\n",
       "    <tr>\n",
       "      <th>3682</th>\n",
       "      <td>Norte</td>\n",
       "      <td>RO</td>\n",
       "      <td>Alta Floresta D'Oeste</td>\n",
       "      <td>11</td>\n",
       "      <td>110001.0</td>\n",
       "      <td>11005.0</td>\n",
       "      <td>ZONA DA MATA</td>\n",
       "      <td>2020-03-28</td>\n",
       "      <td>13</td>\n",
       "      <td>22945</td>\n",
       "      <td>0</td>\n",
       "      <td>0</td>\n",
       "      <td>0</td>\n",
       "      <td>0</td>\n",
       "      <td>NaN</td>\n",
       "      <td>NaN</td>\n",
       "      <td>0.0</td>\n",
       "    </tr>\n",
       "    <tr>\n",
       "      <th>3683</th>\n",
       "      <td>Norte</td>\n",
       "      <td>RO</td>\n",
       "      <td>Alta Floresta D'Oeste</td>\n",
       "      <td>11</td>\n",
       "      <td>110001.0</td>\n",
       "      <td>11005.0</td>\n",
       "      <td>ZONA DA MATA</td>\n",
       "      <td>2020-03-29</td>\n",
       "      <td>14</td>\n",
       "      <td>22945</td>\n",
       "      <td>0</td>\n",
       "      <td>0</td>\n",
       "      <td>0</td>\n",
       "      <td>0</td>\n",
       "      <td>NaN</td>\n",
       "      <td>NaN</td>\n",
       "      <td>0.0</td>\n",
       "    </tr>\n",
       "    <tr>\n",
       "      <th>3684</th>\n",
       "      <td>Norte</td>\n",
       "      <td>RO</td>\n",
       "      <td>Alta Floresta D'Oeste</td>\n",
       "      <td>11</td>\n",
       "      <td>110001.0</td>\n",
       "      <td>11005.0</td>\n",
       "      <td>ZONA DA MATA</td>\n",
       "      <td>2020-03-30</td>\n",
       "      <td>14</td>\n",
       "      <td>22945</td>\n",
       "      <td>0</td>\n",
       "      <td>0</td>\n",
       "      <td>0</td>\n",
       "      <td>0</td>\n",
       "      <td>NaN</td>\n",
       "      <td>NaN</td>\n",
       "      <td>0.0</td>\n",
       "    </tr>\n",
       "    <tr>\n",
       "      <th>3685</th>\n",
       "      <td>Norte</td>\n",
       "      <td>RO</td>\n",
       "      <td>Alta Floresta D'Oeste</td>\n",
       "      <td>11</td>\n",
       "      <td>110001.0</td>\n",
       "      <td>11005.0</td>\n",
       "      <td>ZONA DA MATA</td>\n",
       "      <td>2020-03-31</td>\n",
       "      <td>14</td>\n",
       "      <td>22945</td>\n",
       "      <td>0</td>\n",
       "      <td>0</td>\n",
       "      <td>0</td>\n",
       "      <td>0</td>\n",
       "      <td>NaN</td>\n",
       "      <td>NaN</td>\n",
       "      <td>0.0</td>\n",
       "    </tr>\n",
       "  </tbody>\n",
       "</table>\n",
       "</div>"
      ],
      "text/plain": [
       "     regiao estado              municipio  coduf    codmun  codRegiaoSaude  \\\n",
       "3681  Norte     RO  Alta Floresta D'Oeste     11  110001.0         11005.0   \n",
       "3682  Norte     RO  Alta Floresta D'Oeste     11  110001.0         11005.0   \n",
       "3683  Norte     RO  Alta Floresta D'Oeste     11  110001.0         11005.0   \n",
       "3684  Norte     RO  Alta Floresta D'Oeste     11  110001.0         11005.0   \n",
       "3685  Norte     RO  Alta Floresta D'Oeste     11  110001.0         11005.0   \n",
       "\n",
       "     nomeRegiaoSaude       data  semanaEpi populacaoTCU2019  casosAcumulado  \\\n",
       "3681    ZONA DA MATA 2020-03-27         13            22945               0   \n",
       "3682    ZONA DA MATA 2020-03-28         13            22945               0   \n",
       "3683    ZONA DA MATA 2020-03-29         14            22945               0   \n",
       "3684    ZONA DA MATA 2020-03-30         14            22945               0   \n",
       "3685    ZONA DA MATA 2020-03-31         14            22945               0   \n",
       "\n",
       "      casosNovos  obitosAcumulado  obitosNovos  Recuperadosnovos  \\\n",
       "3681           0                0            0               NaN   \n",
       "3682           0                0            0               NaN   \n",
       "3683           0                0            0               NaN   \n",
       "3684           0                0            0               NaN   \n",
       "3685           0                0            0               NaN   \n",
       "\n",
       "      emAcompanhamentoNovos  interior/metropolitana  \n",
       "3681                    NaN                     0.0  \n",
       "3682                    NaN                     0.0  \n",
       "3683                    NaN                     0.0  \n",
       "3684                    NaN                     0.0  \n",
       "3685                    NaN                     0.0  "
      ]
     },
     "execution_count": 4,
     "metadata": {},
     "output_type": "execute_result"
    }
   ],
   "source": [
    "df_corona.head()"
   ]
  },
  {
   "cell_type": "markdown",
   "metadata": {},
   "source": [
    "#### Dropping columns that are not needed for this"
   ]
  },
  {
   "cell_type": "code",
   "execution_count": 5,
   "metadata": {},
   "outputs": [],
   "source": [
    "df_corona = df_corona.drop(columns=['regiao','codRegiaoSaude', 'nomeRegiaoSaude', 'interior/metropolitana', 'coduf'])"
   ]
  },
  {
   "cell_type": "markdown",
   "metadata": {},
   "source": [
    "#### Making population as a summable field"
   ]
  },
  {
   "cell_type": "code",
   "execution_count": 6,
   "metadata": {},
   "outputs": [],
   "source": [
    "df_corona['populacaoTCU2019'] = df_corona['populacaoTCU2019'].str.replace(r\"\\(.*\\)\",\"\").astype(float)"
   ]
  },
  {
   "cell_type": "markdown",
   "metadata": {},
   "source": [
    "#### Grouping information by city and date, since that's the level of information we'll compare"
   ]
  },
  {
   "cell_type": "code",
   "execution_count": 7,
   "metadata": {},
   "outputs": [],
   "source": [
    "df_corona = df_corona.groupby(['estado', 'municipio',\"codmun\",\"data\",\"semanaEpi\", 'populacaoTCU2019']).sum().reset_index()"
   ]
  },
  {
   "cell_type": "code",
   "execution_count": 8,
   "metadata": {},
   "outputs": [
    {
     "data": {
      "text/html": [
       "<div>\n",
       "<style scoped>\n",
       "    .dataframe tbody tr th:only-of-type {\n",
       "        vertical-align: middle;\n",
       "    }\n",
       "\n",
       "    .dataframe tbody tr th {\n",
       "        vertical-align: top;\n",
       "    }\n",
       "\n",
       "    .dataframe thead th {\n",
       "        text-align: right;\n",
       "    }\n",
       "</style>\n",
       "<table border=\"1\" class=\"dataframe\">\n",
       "  <thead>\n",
       "    <tr style=\"text-align: right;\">\n",
       "      <th></th>\n",
       "      <th>estado</th>\n",
       "      <th>municipio</th>\n",
       "      <th>codmun</th>\n",
       "      <th>data</th>\n",
       "      <th>semanaEpi</th>\n",
       "      <th>populacaoTCU2019</th>\n",
       "      <th>casosAcumulado</th>\n",
       "      <th>casosNovos</th>\n",
       "      <th>obitosAcumulado</th>\n",
       "      <th>obitosNovos</th>\n",
       "      <th>Recuperadosnovos</th>\n",
       "      <th>emAcompanhamentoNovos</th>\n",
       "    </tr>\n",
       "  </thead>\n",
       "  <tbody>\n",
       "    <tr>\n",
       "      <th>0</th>\n",
       "      <td>AC</td>\n",
       "      <td>Acrelândia</td>\n",
       "      <td>120001.0</td>\n",
       "      <td>2020-03-27</td>\n",
       "      <td>13</td>\n",
       "      <td>15256.0</td>\n",
       "      <td>0</td>\n",
       "      <td>0</td>\n",
       "      <td>0</td>\n",
       "      <td>0</td>\n",
       "      <td>0.0</td>\n",
       "      <td>0.0</td>\n",
       "    </tr>\n",
       "    <tr>\n",
       "      <th>1</th>\n",
       "      <td>AC</td>\n",
       "      <td>Acrelândia</td>\n",
       "      <td>120001.0</td>\n",
       "      <td>2020-03-28</td>\n",
       "      <td>13</td>\n",
       "      <td>15256.0</td>\n",
       "      <td>0</td>\n",
       "      <td>0</td>\n",
       "      <td>0</td>\n",
       "      <td>0</td>\n",
       "      <td>0.0</td>\n",
       "      <td>0.0</td>\n",
       "    </tr>\n",
       "    <tr>\n",
       "      <th>2</th>\n",
       "      <td>AC</td>\n",
       "      <td>Acrelândia</td>\n",
       "      <td>120001.0</td>\n",
       "      <td>2020-03-29</td>\n",
       "      <td>14</td>\n",
       "      <td>15256.0</td>\n",
       "      <td>2</td>\n",
       "      <td>2</td>\n",
       "      <td>0</td>\n",
       "      <td>0</td>\n",
       "      <td>0.0</td>\n",
       "      <td>0.0</td>\n",
       "    </tr>\n",
       "    <tr>\n",
       "      <th>3</th>\n",
       "      <td>AC</td>\n",
       "      <td>Acrelândia</td>\n",
       "      <td>120001.0</td>\n",
       "      <td>2020-03-30</td>\n",
       "      <td>14</td>\n",
       "      <td>15256.0</td>\n",
       "      <td>6</td>\n",
       "      <td>4</td>\n",
       "      <td>0</td>\n",
       "      <td>0</td>\n",
       "      <td>0.0</td>\n",
       "      <td>0.0</td>\n",
       "    </tr>\n",
       "    <tr>\n",
       "      <th>4</th>\n",
       "      <td>AC</td>\n",
       "      <td>Acrelândia</td>\n",
       "      <td>120001.0</td>\n",
       "      <td>2020-03-31</td>\n",
       "      <td>14</td>\n",
       "      <td>15256.0</td>\n",
       "      <td>7</td>\n",
       "      <td>1</td>\n",
       "      <td>0</td>\n",
       "      <td>0</td>\n",
       "      <td>0.0</td>\n",
       "      <td>0.0</td>\n",
       "    </tr>\n",
       "  </tbody>\n",
       "</table>\n",
       "</div>"
      ],
      "text/plain": [
       "  estado   municipio    codmun       data  semanaEpi  populacaoTCU2019  \\\n",
       "0     AC  Acrelândia  120001.0 2020-03-27         13           15256.0   \n",
       "1     AC  Acrelândia  120001.0 2020-03-28         13           15256.0   \n",
       "2     AC  Acrelândia  120001.0 2020-03-29         14           15256.0   \n",
       "3     AC  Acrelândia  120001.0 2020-03-30         14           15256.0   \n",
       "4     AC  Acrelândia  120001.0 2020-03-31         14           15256.0   \n",
       "\n",
       "   casosAcumulado  casosNovos  obitosAcumulado  obitosNovos  Recuperadosnovos  \\\n",
       "0               0           0                0            0               0.0   \n",
       "1               0           0                0            0               0.0   \n",
       "2               2           2                0            0               0.0   \n",
       "3               6           4                0            0               0.0   \n",
       "4               7           1                0            0               0.0   \n",
       "\n",
       "   emAcompanhamentoNovos  \n",
       "0                    0.0  \n",
       "1                    0.0  \n",
       "2                    0.0  \n",
       "3                    0.0  \n",
       "4                    0.0  "
      ]
     },
     "execution_count": 8,
     "metadata": {},
     "output_type": "execute_result"
    }
   ],
   "source": [
    "df_corona.head()"
   ]
  },
  {
   "cell_type": "markdown",
   "metadata": {},
   "source": [
    "#### Since all the data in the voting zones are related to the city name, and the city name there is all upper string, will normalize the data to do a merge based on that field"
   ]
  },
  {
   "cell_type": "code",
   "execution_count": 9,
   "metadata": {},
   "outputs": [],
   "source": [
    "df_corona['municipio'] = df_corona['municipio'].str.upper()"
   ]
  },
  {
   "cell_type": "markdown",
   "metadata": {},
   "source": [
    "## Loading voting data from each city - Start here if you have the complete file"
   ]
  },
  {
   "cell_type": "code",
   "execution_count": 11,
   "metadata": {},
   "outputs": [],
   "source": [
    "df_votes_initial = pd.read_csv(\"votacao_partido_munzona_2018_BRASIL.csv\", ';')"
   ]
  },
  {
   "cell_type": "markdown",
   "metadata": {},
   "source": [
    "#### Filtering data for only second turn of elections (NR_TURNO == 2), and only for presidential elections (CD_ELEICAO = 296). Also cleaning trash data (st_voto_em_transito)"
   ]
  },
  {
   "cell_type": "code",
   "execution_count": 12,
   "metadata": {},
   "outputs": [],
   "source": [
    "df_votes = df_votes_initial[(df_votes_initial.NR_TURNO == 2) & (df_votes_initial.CD_ELEICAO == 296) & (df_votes_initial.ST_VOTO_EM_TRANSITO == 'N')]"
   ]
  },
  {
   "cell_type": "markdown",
   "metadata": {},
   "source": [
    "#### Droping columns that are not necessary for this analysis"
   ]
  },
  {
   "cell_type": "code",
   "execution_count": 13,
   "metadata": {},
   "outputs": [],
   "source": [
    "df_votes = df_votes.drop(columns=['DT_GERACAO','HH_GERACAO','ANO_ELEICAO','CD_TIPO_ELEICAO','NM_TIPO_ELEICAO','NR_TURNO','CD_ELEICAO','DS_ELEICAO','DT_ELEICAO','TP_ABRANGENCIA','NR_ZONA','CD_CARGO','DS_CARGO','TP_AGREMIACAO','NM_PARTIDO','SQ_COLIGACAO','NM_COLIGACAO','DS_COMPOSICAO_COLIGACAO','ST_VOTO_EM_TRANSITO','QT_VOTOS_LEGENDA'])"
   ]
  },
  {
   "cell_type": "markdown",
   "metadata": {},
   "source": [
    "#### Saving reduced file so github can store it."
   ]
  },
  {
   "cell_type": "code",
   "execution_count": 14,
   "metadata": {},
   "outputs": [],
   "source": [
    "df_votes.to_csv('votos_reduzidos.csv')"
   ]
  },
  {
   "cell_type": "markdown",
   "metadata": {},
   "source": [
    "## Loading voting data from each city - Start here if you have the reduced file"
   ]
  },
  {
   "cell_type": "code",
   "execution_count": 15,
   "metadata": {},
   "outputs": [],
   "source": [
    "df_votes = pd.read_csv('votos_reduzidos.csv')"
   ]
  },
  {
   "cell_type": "markdown",
   "metadata": {},
   "source": [
    "#### Grouping information by city and election party"
   ]
  },
  {
   "cell_type": "code",
   "execution_count": 16,
   "metadata": {},
   "outputs": [],
   "source": [
    "df_votes = df_votes.groupby(['NR_PARTIDO', 'SG_PARTIDO',\"SG_UF\",\"NM_UE\",\"CD_MUNICIPIO\",\"NM_MUNICIPIO\"]).sum().reset_index()"
   ]
  },
  {
   "cell_type": "markdown",
   "metadata": {},
   "source": [
    "#### Making the cities name upper to normalize with health data"
   ]
  },
  {
   "cell_type": "code",
   "execution_count": 17,
   "metadata": {},
   "outputs": [],
   "source": [
    "df_votes['NM_MUNICIPIO'] = df_votes['NM_MUNICIPIO'].str.upper()"
   ]
  },
  {
   "cell_type": "markdown",
   "metadata": {},
   "source": [
    "#### Creating new columns with the amount of votes for each party"
   ]
  },
  {
   "cell_type": "code",
   "execution_count": 18,
   "metadata": {},
   "outputs": [],
   "source": [
    "df_votes['VOTOS_PT'] = df_votes[df_votes.SG_PARTIDO == 'PT']['QT_VOTOS_NOMINAIS']"
   ]
  },
  {
   "cell_type": "code",
   "execution_count": 19,
   "metadata": {},
   "outputs": [],
   "source": [
    "df_votes['VOTOS_PSL'] = df_votes[df_votes.SG_PARTIDO == 'PSL']['QT_VOTOS_NOMINAIS']"
   ]
  },
  {
   "cell_type": "markdown",
   "metadata": {},
   "source": [
    "#### Merge voting data based on the city to get data for both parties together"
   ]
  },
  {
   "cell_type": "code",
   "execution_count": 21,
   "metadata": {},
   "outputs": [],
   "source": [
    "df_votes = pd.merge(df_votes[pd.notna(df_votes.VOTOS_PSL)], df_votes[pd.notna(df_votes.VOTOS_PT)],  how='left', left_on=[\"SG_UF\",\"NM_UE\",\"CD_MUNICIPIO\",\"NM_MUNICIPIO\"], right_on = [\"SG_UF\",\"NM_UE\",\"CD_MUNICIPIO\",\"NM_MUNICIPIO\"])"
   ]
  },
  {
   "cell_type": "markdown",
   "metadata": {},
   "source": [
    "#### Adding property of who won the elections on that city"
   ]
  },
  {
   "cell_type": "code",
   "execution_count": 22,
   "metadata": {},
   "outputs": [],
   "source": [
    "df_votes['PARTIDO_VENCEDOR'] = np.where(df_votes['QT_VOTOS_NOMINAIS_x'] > df_votes['QT_VOTOS_NOMINAIS_y'], 'PSL','PT')"
   ]
  },
  {
   "cell_type": "markdown",
   "metadata": {},
   "source": [
    "#### Getting only columns that matter for now on"
   ]
  },
  {
   "cell_type": "code",
   "execution_count": 23,
   "metadata": {},
   "outputs": [],
   "source": [
    "df_votes = df_votes.drop(columns=['NR_PARTIDO_x','SG_PARTIDO_x','QT_VOTOS_NOMINAIS_x','VOTOS_PT_x','NR_PARTIDO_y','SG_PARTIDO_y','QT_VOTOS_NOMINAIS_y','VOTOS_PSL_y'])"
   ]
  },
  {
   "cell_type": "code",
   "execution_count": 24,
   "metadata": {},
   "outputs": [
    {
     "data": {
      "text/html": [
       "<div>\n",
       "<style scoped>\n",
       "    .dataframe tbody tr th:only-of-type {\n",
       "        vertical-align: middle;\n",
       "    }\n",
       "\n",
       "    .dataframe tbody tr th {\n",
       "        vertical-align: top;\n",
       "    }\n",
       "\n",
       "    .dataframe thead th {\n",
       "        text-align: right;\n",
       "    }\n",
       "</style>\n",
       "<table border=\"1\" class=\"dataframe\">\n",
       "  <thead>\n",
       "    <tr style=\"text-align: right;\">\n",
       "      <th></th>\n",
       "      <th>CD_MUNICIPIO</th>\n",
       "      <th>Unnamed: 0_x</th>\n",
       "      <th>VOTOS_PSL_x</th>\n",
       "      <th>Unnamed: 0_y</th>\n",
       "      <th>VOTOS_PT_y</th>\n",
       "    </tr>\n",
       "    <tr>\n",
       "      <th>PARTIDO_VENCEDOR</th>\n",
       "      <th></th>\n",
       "      <th></th>\n",
       "      <th></th>\n",
       "      <th></th>\n",
       "      <th></th>\n",
       "    </tr>\n",
       "  </thead>\n",
       "  <tbody>\n",
       "    <tr>\n",
       "      <th>PSL</th>\n",
       "      <td>194049576</td>\n",
       "      <td>1013426775</td>\n",
       "      <td>47595972.0</td>\n",
       "      <td>1013745743</td>\n",
       "      <td>23305228.0</td>\n",
       "    </tr>\n",
       "    <tr>\n",
       "      <th>PT</th>\n",
       "      <td>98840275</td>\n",
       "      <td>911626884</td>\n",
       "      <td>10201875.0</td>\n",
       "      <td>918048078</td>\n",
       "      <td>23735678.0</td>\n",
       "    </tr>\n",
       "  </tbody>\n",
       "</table>\n",
       "</div>"
      ],
      "text/plain": [
       "                  CD_MUNICIPIO  Unnamed: 0_x  VOTOS_PSL_x  Unnamed: 0_y  \\\n",
       "PARTIDO_VENCEDOR                                                          \n",
       "PSL                  194049576    1013426775   47595972.0    1013745743   \n",
       "PT                    98840275     911626884   10201875.0     918048078   \n",
       "\n",
       "                  VOTOS_PT_y  \n",
       "PARTIDO_VENCEDOR              \n",
       "PSL               23305228.0  \n",
       "PT                23735678.0  "
      ]
     },
     "execution_count": 24,
     "metadata": {},
     "output_type": "execute_result"
    }
   ],
   "source": [
    "df_votes.groupby(['PARTIDO_VENCEDOR']).sum()\n",
    "#Bolsonaro got 57m votes and Haddad got 47m votes. The data below matches that."
   ]
  },
  {
   "cell_type": "markdown",
   "metadata": {},
   "source": [
    "## Creating final base\n",
    "#### Merge voting data and coronavirus data based on state short name and city name"
   ]
  },
  {
   "cell_type": "code",
   "execution_count": 25,
   "metadata": {},
   "outputs": [],
   "source": [
    "df_merged = pd.merge(df_votes, df_corona,  how='left', left_on=[\"SG_UF\",\"NM_MUNICIPIO\"], right_on = [\"estado\",\"municipio\"])"
   ]
  },
  {
   "cell_type": "markdown",
   "metadata": {},
   "source": [
    "#### Remove every line that didn't have a match (probably trash data)"
   ]
  },
  {
   "cell_type": "code",
   "execution_count": 26,
   "metadata": {},
   "outputs": [],
   "source": [
    "df_merged = df_merged[df_merged.estado.notna()]"
   ]
  },
  {
   "cell_type": "code",
   "execution_count": 27,
   "metadata": {
    "scrolled": true
   },
   "outputs": [
    {
     "data": {
      "text/html": [
       "<div>\n",
       "<style scoped>\n",
       "    .dataframe tbody tr th:only-of-type {\n",
       "        vertical-align: middle;\n",
       "    }\n",
       "\n",
       "    .dataframe tbody tr th {\n",
       "        vertical-align: top;\n",
       "    }\n",
       "\n",
       "    .dataframe thead th {\n",
       "        text-align: right;\n",
       "    }\n",
       "</style>\n",
       "<table border=\"1\" class=\"dataframe\">\n",
       "  <thead>\n",
       "    <tr style=\"text-align: right;\">\n",
       "      <th></th>\n",
       "      <th>SG_UF</th>\n",
       "      <th>NM_UE</th>\n",
       "      <th>CD_MUNICIPIO</th>\n",
       "      <th>NM_MUNICIPIO</th>\n",
       "      <th>Unnamed: 0_x</th>\n",
       "      <th>VOTOS_PSL_x</th>\n",
       "      <th>Unnamed: 0_y</th>\n",
       "      <th>VOTOS_PT_y</th>\n",
       "      <th>PARTIDO_VENCEDOR</th>\n",
       "      <th>estado</th>\n",
       "      <th>...</th>\n",
       "      <th>codmun</th>\n",
       "      <th>data</th>\n",
       "      <th>semanaEpi</th>\n",
       "      <th>populacaoTCU2019</th>\n",
       "      <th>casosAcumulado</th>\n",
       "      <th>casosNovos</th>\n",
       "      <th>obitosAcumulado</th>\n",
       "      <th>obitosNovos</th>\n",
       "      <th>Recuperadosnovos</th>\n",
       "      <th>emAcompanhamentoNovos</th>\n",
       "    </tr>\n",
       "  </thead>\n",
       "  <tbody>\n",
       "    <tr>\n",
       "      <th>0</th>\n",
       "      <td>AC</td>\n",
       "      <td>BRASIL</td>\n",
       "      <td>1007</td>\n",
       "      <td>BUJARI</td>\n",
       "      <td>46047</td>\n",
       "      <td>4676.0</td>\n",
       "      <td>586271</td>\n",
       "      <td>1274.0</td>\n",
       "      <td>PSL</td>\n",
       "      <td>AC</td>\n",
       "      <td>...</td>\n",
       "      <td>120013.0</td>\n",
       "      <td>2020-03-27</td>\n",
       "      <td>13.0</td>\n",
       "      <td>10266.0</td>\n",
       "      <td>0.0</td>\n",
       "      <td>0.0</td>\n",
       "      <td>0.0</td>\n",
       "      <td>0.0</td>\n",
       "      <td>0.0</td>\n",
       "      <td>0.0</td>\n",
       "    </tr>\n",
       "    <tr>\n",
       "      <th>1</th>\n",
       "      <td>AC</td>\n",
       "      <td>BRASIL</td>\n",
       "      <td>1007</td>\n",
       "      <td>BUJARI</td>\n",
       "      <td>46047</td>\n",
       "      <td>4676.0</td>\n",
       "      <td>586271</td>\n",
       "      <td>1274.0</td>\n",
       "      <td>PSL</td>\n",
       "      <td>AC</td>\n",
       "      <td>...</td>\n",
       "      <td>120013.0</td>\n",
       "      <td>2020-03-28</td>\n",
       "      <td>13.0</td>\n",
       "      <td>10266.0</td>\n",
       "      <td>0.0</td>\n",
       "      <td>0.0</td>\n",
       "      <td>0.0</td>\n",
       "      <td>0.0</td>\n",
       "      <td>0.0</td>\n",
       "      <td>0.0</td>\n",
       "    </tr>\n",
       "    <tr>\n",
       "      <th>2</th>\n",
       "      <td>AC</td>\n",
       "      <td>BRASIL</td>\n",
       "      <td>1007</td>\n",
       "      <td>BUJARI</td>\n",
       "      <td>46047</td>\n",
       "      <td>4676.0</td>\n",
       "      <td>586271</td>\n",
       "      <td>1274.0</td>\n",
       "      <td>PSL</td>\n",
       "      <td>AC</td>\n",
       "      <td>...</td>\n",
       "      <td>120013.0</td>\n",
       "      <td>2020-03-29</td>\n",
       "      <td>14.0</td>\n",
       "      <td>10266.0</td>\n",
       "      <td>0.0</td>\n",
       "      <td>0.0</td>\n",
       "      <td>0.0</td>\n",
       "      <td>0.0</td>\n",
       "      <td>0.0</td>\n",
       "      <td>0.0</td>\n",
       "    </tr>\n",
       "    <tr>\n",
       "      <th>3</th>\n",
       "      <td>AC</td>\n",
       "      <td>BRASIL</td>\n",
       "      <td>1007</td>\n",
       "      <td>BUJARI</td>\n",
       "      <td>46047</td>\n",
       "      <td>4676.0</td>\n",
       "      <td>586271</td>\n",
       "      <td>1274.0</td>\n",
       "      <td>PSL</td>\n",
       "      <td>AC</td>\n",
       "      <td>...</td>\n",
       "      <td>120013.0</td>\n",
       "      <td>2020-03-30</td>\n",
       "      <td>14.0</td>\n",
       "      <td>10266.0</td>\n",
       "      <td>0.0</td>\n",
       "      <td>0.0</td>\n",
       "      <td>0.0</td>\n",
       "      <td>0.0</td>\n",
       "      <td>0.0</td>\n",
       "      <td>0.0</td>\n",
       "    </tr>\n",
       "    <tr>\n",
       "      <th>4</th>\n",
       "      <td>AC</td>\n",
       "      <td>BRASIL</td>\n",
       "      <td>1007</td>\n",
       "      <td>BUJARI</td>\n",
       "      <td>46047</td>\n",
       "      <td>4676.0</td>\n",
       "      <td>586271</td>\n",
       "      <td>1274.0</td>\n",
       "      <td>PSL</td>\n",
       "      <td>AC</td>\n",
       "      <td>...</td>\n",
       "      <td>120013.0</td>\n",
       "      <td>2020-03-31</td>\n",
       "      <td>14.0</td>\n",
       "      <td>10266.0</td>\n",
       "      <td>0.0</td>\n",
       "      <td>0.0</td>\n",
       "      <td>0.0</td>\n",
       "      <td>0.0</td>\n",
       "      <td>0.0</td>\n",
       "      <td>0.0</td>\n",
       "    </tr>\n",
       "  </tbody>\n",
       "</table>\n",
       "<p>5 rows × 21 columns</p>\n",
       "</div>"
      ],
      "text/plain": [
       "  SG_UF   NM_UE  CD_MUNICIPIO NM_MUNICIPIO  Unnamed: 0_x  VOTOS_PSL_x  \\\n",
       "0    AC  BRASIL          1007       BUJARI         46047       4676.0   \n",
       "1    AC  BRASIL          1007       BUJARI         46047       4676.0   \n",
       "2    AC  BRASIL          1007       BUJARI         46047       4676.0   \n",
       "3    AC  BRASIL          1007       BUJARI         46047       4676.0   \n",
       "4    AC  BRASIL          1007       BUJARI         46047       4676.0   \n",
       "\n",
       "   Unnamed: 0_y  VOTOS_PT_y PARTIDO_VENCEDOR estado  ...    codmun       data  \\\n",
       "0        586271      1274.0              PSL     AC  ...  120013.0 2020-03-27   \n",
       "1        586271      1274.0              PSL     AC  ...  120013.0 2020-03-28   \n",
       "2        586271      1274.0              PSL     AC  ...  120013.0 2020-03-29   \n",
       "3        586271      1274.0              PSL     AC  ...  120013.0 2020-03-30   \n",
       "4        586271      1274.0              PSL     AC  ...  120013.0 2020-03-31   \n",
       "\n",
       "  semanaEpi  populacaoTCU2019  casosAcumulado  casosNovos  obitosAcumulado  \\\n",
       "0      13.0           10266.0             0.0         0.0              0.0   \n",
       "1      13.0           10266.0             0.0         0.0              0.0   \n",
       "2      14.0           10266.0             0.0         0.0              0.0   \n",
       "3      14.0           10266.0             0.0         0.0              0.0   \n",
       "4      14.0           10266.0             0.0         0.0              0.0   \n",
       "\n",
       "   obitosNovos  Recuperadosnovos  emAcompanhamentoNovos  \n",
       "0          0.0               0.0                    0.0  \n",
       "1          0.0               0.0                    0.0  \n",
       "2          0.0               0.0                    0.0  \n",
       "3          0.0               0.0                    0.0  \n",
       "4          0.0               0.0                    0.0  \n",
       "\n",
       "[5 rows x 21 columns]"
      ]
     },
     "execution_count": 27,
     "metadata": {},
     "output_type": "execute_result"
    }
   ],
   "source": [
    "#df_votes.groupby(['PARTIDO_VENCEDOR']).sum()\n",
    "df_merged.head()"
   ]
  },
  {
   "cell_type": "markdown",
   "metadata": {},
   "source": [
    "#### Plotting data"
   ]
  },
  {
   "cell_type": "code",
   "execution_count": 28,
   "metadata": {},
   "outputs": [],
   "source": [
    "df_grouped_charts = df_merged.groupby(['PARTIDO_VENCEDOR', 'data']).sum().reset_index()"
   ]
  },
  {
   "cell_type": "markdown",
   "metadata": {},
   "source": [
    "#### Total cases"
   ]
  },
  {
   "cell_type": "code",
   "execution_count": 29,
   "metadata": {},
   "outputs": [
    {
     "data": {
      "text/plain": [
       "<matplotlib.axes._subplots.AxesSubplot at 0x2cc879dc5c0>"
      ]
     },
     "execution_count": 29,
     "metadata": {},
     "output_type": "execute_result"
    },
    {
     "data": {
      "image/png": "[encoded data removed]",
      "text/plain": [
       "<Figure size 432x288 with 1 Axes>"
      ]
     },
     "metadata": {
      "needs_background": "light"
     },
     "output_type": "display_data"
    }
   ],
   "source": [
    "df_grouped_charts.pivot(index='data', columns='PARTIDO_VENCEDOR', values='casosAcumulado').plot()"
   ]
  },
  {
   "cell_type": "markdown",
   "metadata": {},
   "source": [
    "#### New cases by day"
   ]
  },
  {
   "cell_type": "code",
   "execution_count": 30,
   "metadata": {},
   "outputs": [
    {
     "data": {
      "text/plain": [
       "<matplotlib.axes._subplots.AxesSubplot at 0x2cce89684e0>"
      ]
     },
     "execution_count": 30,
     "metadata": {},
     "output_type": "execute_result"
    },
    {
     "data": {
      "image/png": "[encoded data removed]",
      "text/plain": [
       "<Figure size 432x288 with 1 Axes>"
      ]
     },
     "metadata": {
      "needs_background": "light"
     },
     "output_type": "display_data"
    }
   ],
   "source": [
    "df_grouped_charts.pivot(index='data', columns='PARTIDO_VENCEDOR', values='casosNovos').plot()"
   ]
  }
 ],
 "metadata": {
  "kernelspec": {
   "display_name": "Python 3",
   "language": "python",
   "name": "python3"
  },
  "language_info": {
   "codemirror_mode": {
    "name": "ipython",
    "version": 3
   },
   "file_extension": ".py",
   "mimetype": "text/x-python",
   "name": "python",
   "nbconvert_exporter": "python",
   "pygments_lexer": "ipython3",
   "version": "3.7.3"
  }
 },
 "nbformat": 4,
 "nbformat_minor": 4
}
